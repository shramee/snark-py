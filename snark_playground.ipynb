{
  "nbformat": 4,
  "nbformat_minor": 0,
  "metadata": {
    "colab": {
      "provenance": [],
      "authorship_tag": "ABX9TyP8aQGVJNug7mcQ0Dakh8RI",
      "include_colab_link": true
    },
    "kernelspec": {
      "name": "python3",
      "display_name": "Python 3"
    },
    "language_info": {
      "name": "python"
    }
  },
  "cells": [
    {
      "cell_type": "markdown",
      "metadata": {
        "id": "view-in-github",
        "colab_type": "text"
      },
      "source": [
        "<a href=\"https://colab.research.google.com/github/shramee/snark-py/blob/main/snark_playground.ipynb\" target=\"_parent\"><img src=\"https://colab.research.google.com/assets/colab-badge.svg\" alt=\"Open In Colab\"/></a>"
      ]
    },
    {
      "cell_type": "code",
      "source": [
        "# prompt: install galois\n",
        "\n",
        "!pip install galois\n"
      ],
      "metadata": {
        "colab": {
          "base_uri": "https://localhost:8080/"
        },
        "id": "dlnZk24YFIVU",
        "outputId": "1633b659-1f30-48eb-f26a-a44b691246a3"
      },
      "execution_count": 2,
      "outputs": [
        {
          "output_type": "stream",
          "name": "stdout",
          "text": [
            "Collecting galois\n",
            "  Downloading galois-0.3.7-py3-none-any.whl (4.2 MB)\n",
            "\u001b[2K     \u001b[90m━━━━━━━━━━━━━━━━━━━━━━━━━━━━━━━━━━━━━━━━\u001b[0m \u001b[32m4.2/4.2 MB\u001b[0m \u001b[31m11.5 MB/s\u001b[0m eta \u001b[36m0:00:00\u001b[0m\n",
            "\u001b[?25hRequirement already satisfied: numpy<1.26,>=1.21.0 in /usr/local/lib/python3.10/dist-packages (from galois) (1.23.5)\n",
            "Requirement already satisfied: numba<0.59,>=0.55 in /usr/local/lib/python3.10/dist-packages (from galois) (0.58.1)\n",
            "Requirement already satisfied: typing-extensions>=4.0.0 in /usr/local/lib/python3.10/dist-packages (from galois) (4.5.0)\n",
            "Requirement already satisfied: llvmlite<0.42,>=0.41.0dev0 in /usr/local/lib/python3.10/dist-packages (from numba<0.59,>=0.55->galois) (0.41.1)\n",
            "Installing collected packages: galois\n",
            "Successfully installed galois-0.3.7\n"
          ]
        }
      ]
    },
    {
      "cell_type": "markdown",
      "source": [
        "## R1CS and witness\n",
        "\n",
        "R1CS comprises of three matrices describing all constraints between all signals (values). Mapping relationship between inputs, outputs and intermediate values.\n",
        "\n",
        "Three matrices are `L`, `R` and `O` such that with witness `w`,\n",
        "\n",
        "```\n",
        "Lw  *  Rw  =  Ow\n",
        "```"
      ],
      "metadata": {
        "id": "SwU9WDoUHW4r"
      }
    },
    {
      "cell_type": "code",
      "execution_count": 4,
      "metadata": {
        "colab": {
          "base_uri": "https://localhost:8080/"
        },
        "id": "5lZkOSGv_6ik",
        "outputId": "cbc49f46-4ae2-4134-c999-773102aec79e"
      },
      "outputs": [
        {
          "output_type": "stream",
          "name": "stdout",
          "text": [
            "w\n",
            " [  1 104   2   3   4   9  40 144]\n",
            "Lw\n",
            " [2 3 4 9 9]\n",
            "Rw\n",
            " [ 2  3 10 16 26]\n",
            "Lw * Rw\n",
            " [  4   9  40 144 234]\n",
            "Ow\n",
            " [  4   9  40 144 234]\n"
          ]
        }
      ],
      "source": [
        "import galois\n",
        "import numpy as np\n",
        "\n",
        "p = 21888242871839275222246405745257275088548364400416034343698204186575808495617\n",
        "FP = galois.GF(p)\n",
        "\n",
        "# input arguments\n",
        "x = FP(2)\n",
        "y = FP(3)\n",
        "\n",
        "v1 = x * x\n",
        "v2 = y * y\n",
        "v3 = 5 * x * v1\n",
        "v4 = 4 * v1 * v2\n",
        "out = 5*x**3 - 4*x**2*y**2 + 13*x*y**2 + x**2 - 10*y\n",
        "\n",
        "w = FP([1, out, x, y, v1, v2, v3, v4])\n",
        "\n",
        "print(\"w\\n\", w)\n",
        "\n",
        "R = FP([[0, 0, 1, 0, 0, 0, 0, 0],\n",
        "         [0, 0, 0, 1, 0, 0, 0, 0],\n",
        "         [0, 0, 5, 0, 0, 0, 0, 0],\n",
        "         [0, 0, 0, 0, 4, 0, 0, 0],\n",
        "         [0, 0, 13, 0, 0, 0, 0, 0]])\n",
        "\n",
        "L = FP([[0, 0, 1, 0, 0, 0, 0, 0],\n",
        "         [0, 0, 0, 1, 0, 0, 0, 0],\n",
        "         [0, 0, 0, 0, 1, 0, 0, 0],\n",
        "         [0, 0, 0, 0, 0, 1, 0, 0],\n",
        "         [0, 0, 0, 0, 0, 1, 0, 0]])\n",
        "\n",
        "O = FP([[0, 0, 0, 0, 1, 0, 0, 0],\n",
        "         [0, 0, 0, 0, 0, 1, 0, 0],\n",
        "         [0, 0, 0, 0, 0, 0, 1, 0],\n",
        "         [0, 0, 0, 0, 0, 0, 0, 1],\n",
        "         [0, 1, 0, 10, FP(p - 1), 0, FP(p - 1), 1]])\n",
        "\n",
        "Lw = np.dot(L, w)\n",
        "Rw = np.dot(R, w)\n",
        "Ow = np.dot(O, w)\n",
        "\n",
        "print(\"Lw\\n\", Lw)\n",
        "print(\"Rw\\n\", Rw)\n",
        "\n",
        "LwRw = np.multiply(Lw, Rw)\n",
        "\n",
        "print(\"Lw * Rw\\n\", LwRw)\n",
        "\n",
        "print(\"Ow\\n\", Ow)\n",
        "\n",
        "assert np.all(LwRw == Ow)"
      ]
    },
    {
      "cell_type": "markdown",
      "source": [],
      "metadata": {
        "id": "ydHw-eenHQ4m"
      }
    }
  ]
}